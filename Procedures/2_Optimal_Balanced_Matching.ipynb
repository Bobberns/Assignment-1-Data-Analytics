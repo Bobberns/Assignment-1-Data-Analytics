{
 "cells": [
  {
   "cell_type": "markdown",
   "metadata": {},
   "source": [
    "### **Optimal Balanced Matching**\n",
    "\n",
    "This refers to a new form of matching used in observational studies that aims to achieve two goals:\n",
    "1. match similar patients in each pair\n",
    "2. create balanced treated and control groups in aggregate\n",
    "\n",
    "Specifically, Optimal Balanced Matching involves:\n",
    "\n",
    "**Risk set matching**: When a patient receives treatment at time t, they are matched to another patient with a similar history of symptoms up to time t who has not received the treatment up to time t.\n",
    "\n",
    "**Balancing**: Using a penalty function in integer programming to force the marginal distributions of symptoms to be balanced in the matched treated and control groups.\n",
    "\n",
    "**Optimization**: Among all balanced matchings, selecting the one that minimizes the multivariate pretreatment covariate distance within matched pairs.\n",
    "\n",
    "***Steps***\n",
    "\n",
    "1. **Define the Pool**: Identify the group of patients you're working with, those who received the treatment, and the possible pairings between treated and untreated individuals.\n",
    "\n",
    "2. **Define Covariates**: Select a set of K binary variables that describe the covariates to be balanced.\n",
    "\n",
    "3. **Assess Similarity**: Determine how to measure the distance/similarity between potential matches. Mahalanobis distance is a common choice.\n",
    "\n",
    "4. **Balance the Groups**: Use a penalty function within an integer programming framework to force the marginal distributions of the covariates to be balanced in the matched treated and control groups.\n",
    "\n",
    "5. **Optimize the Matching**: Use minimum cost flow in a network to find the optimal matching that minimizes the total distance within pairs while satisfying the balance requirements.\n",
    "\n",
    "### **Hungarian Algorithm**\n",
    "\n",
    "The Hungarian algorithm is **a combinatorial optimization algorithm that solves the assignment problem in polynomial time**. It is used to find the optimal assignment of tasks to agents (or, in this case, treated patients to untreated patients) such that the total cost (or distance) is minimized.\n",
    "\n",
    "> ***How does it work?***\n",
    ">\n",
    "> **Cost Matrix**: A matrix is created where each row represents a treated patient, each column represents an untreated patient, and each cell contains the cost (or distance) of matching that treated patient to that untreated patient.\n",
    ">\n",
    ">**Row and Column Reduction**: Subtract the smallest value in each row from all elements in that row. Subtract the smallest value in each column from all elements in that column.\n",
    ">\n",
    ">**Covering Zeros**: Find the minimum number of lines (rows or columns) needed to cover all zeros in the matrix.\n",
    ">\n",
    ">**Optimal Assignment**: If the number of lines equals the number of rows (or columns), an optimal assignment exists. Otherwise, adjust the matrix and repeat the process.\n",
    ">\n",
    ">**Result**: The algorithm returns the optimal assignment of treated patients to untreated patients that minimizes the total cost.\n",
    "\n",
    "In the context of this journal's Optimal Balance Matching, the algorithm is used as the following:\n",
    "\n",
    "1. **Match Treated and Untreated Patients**: Each treated patient is matched to an untreated patient based on their symptom scores (e.g., Pain_Score, Urgency_Score, Frequency_Score).\n",
    "\n",
    "2. **Minimize Total Distance**: The algorithm ensures that the total Euclidean distance between matched pairs is minimized.\n",
    "\n",
    "3. **Ensure One-to-One Matching**: Each treated patient is matched to exactly one untreated patient, and vice versa."
   ]
  },
  {
   "cell_type": "code",
   "execution_count": 1,
   "metadata": {},
   "outputs": [
    {
     "name": "stdout",
     "output_type": "stream",
     "text": [
      "Requirement already satisfied: scipy in c:\\users\\fabiola\\appdata\\local\\programs\\python\\python313\\lib\\site-packages (1.15.1)\n",
      "Requirement already satisfied: numpy<2.5,>=1.23.5 in c:\\users\\fabiola\\appdata\\local\\programs\\python\\python313\\lib\\site-packages (from scipy) (2.2.2)\n",
      "Note: you may need to restart the kernel to use updated packages.\n"
     ]
    },
    {
     "name": "stderr",
     "output_type": "stream",
     "text": [
      "\n",
      "[notice] A new release of pip is available: 24.3.1 -> 25.0\n",
      "[notice] To update, run: python.exe -m pip install --upgrade pip\n"
     ]
    }
   ],
   "source": [
    "pip install scipy"
   ]
  },
  {
   "cell_type": "code",
   "execution_count": 2,
   "metadata": {},
   "outputs": [
    {
     "name": "stdout",
     "output_type": "stream",
     "text": [
      "Requirement already satisfied: scikit-learn in c:\\users\\fabiola\\appdata\\local\\programs\\python\\python313\\lib\\site-packages (1.6.1)\n",
      "Requirement already satisfied: numpy>=1.19.5 in c:\\users\\fabiola\\appdata\\local\\programs\\python\\python313\\lib\\site-packages (from scikit-learn) (2.2.2)\n",
      "Requirement already satisfied: scipy>=1.6.0 in c:\\users\\fabiola\\appdata\\local\\programs\\python\\python313\\lib\\site-packages (from scikit-learn) (1.15.1)\n",
      "Requirement already satisfied: joblib>=1.2.0 in c:\\users\\fabiola\\appdata\\local\\programs\\python\\python313\\lib\\site-packages (from scikit-learn) (1.4.2)\n",
      "Requirement already satisfied: threadpoolctl>=3.1.0 in c:\\users\\fabiola\\appdata\\local\\programs\\python\\python313\\lib\\site-packages (from scikit-learn) (3.5.0)\n",
      "Note: you may need to restart the kernel to use updated packages.\n"
     ]
    },
    {
     "name": "stderr",
     "output_type": "stream",
     "text": [
      "\n",
      "[notice] A new release of pip is available: 24.3.1 -> 25.0\n",
      "[notice] To update, run: python.exe -m pip install --upgrade pip\n"
     ]
    }
   ],
   "source": [
    "pip install scikit-learn"
   ]
  },
  {
   "cell_type": "code",
   "execution_count": 3,
   "metadata": {},
   "outputs": [
    {
     "name": "stdout",
     "output_type": "stream",
     "text": [
      "Requirement already satisfied: seaborn in c:\\users\\fabiola\\appdata\\local\\programs\\python\\python313\\lib\\site-packages (0.13.2)\n",
      "Requirement already satisfied: numpy!=1.24.0,>=1.20 in c:\\users\\fabiola\\appdata\\local\\programs\\python\\python313\\lib\\site-packages (from seaborn) (2.2.2)\n",
      "Requirement already satisfied: pandas>=1.2 in c:\\users\\fabiola\\appdata\\local\\programs\\python\\python313\\lib\\site-packages (from seaborn) (2.2.3)\n",
      "Requirement already satisfied: matplotlib!=3.6.1,>=3.4 in c:\\users\\fabiola\\appdata\\local\\programs\\python\\python313\\lib\\site-packages (from seaborn) (3.10.0)\n",
      "Requirement already satisfied: contourpy>=1.0.1 in c:\\users\\fabiola\\appdata\\local\\programs\\python\\python313\\lib\\site-packages (from matplotlib!=3.6.1,>=3.4->seaborn) (1.3.1)\n",
      "Requirement already satisfied: cycler>=0.10 in c:\\users\\fabiola\\appdata\\local\\programs\\python\\python313\\lib\\site-packages (from matplotlib!=3.6.1,>=3.4->seaborn) (0.12.1)\n",
      "Requirement already satisfied: fonttools>=4.22.0 in c:\\users\\fabiola\\appdata\\local\\programs\\python\\python313\\lib\\site-packages (from matplotlib!=3.6.1,>=3.4->seaborn) (4.56.0)\n",
      "Requirement already satisfied: kiwisolver>=1.3.1 in c:\\users\\fabiola\\appdata\\local\\programs\\python\\python313\\lib\\site-packages (from matplotlib!=3.6.1,>=3.4->seaborn) (1.4.8)\n",
      "Requirement already satisfied: packaging>=20.0 in c:\\users\\fabiola\\appdata\\roaming\\python\\python313\\site-packages (from matplotlib!=3.6.1,>=3.4->seaborn) (24.2)\n",
      "Requirement already satisfied: pillow>=8 in c:\\users\\fabiola\\appdata\\local\\programs\\python\\python313\\lib\\site-packages (from matplotlib!=3.6.1,>=3.4->seaborn) (11.1.0)\n",
      "Requirement already satisfied: pyparsing>=2.3.1 in c:\\users\\fabiola\\appdata\\local\\programs\\python\\python313\\lib\\site-packages (from matplotlib!=3.6.1,>=3.4->seaborn) (3.2.1)\n",
      "Requirement already satisfied: python-dateutil>=2.7 in c:\\users\\fabiola\\appdata\\roaming\\python\\python313\\site-packages (from matplotlib!=3.6.1,>=3.4->seaborn) (2.9.0.post0)\n",
      "Requirement already satisfied: pytz>=2020.1 in c:\\users\\fabiola\\appdata\\local\\programs\\python\\python313\\lib\\site-packages (from pandas>=1.2->seaborn) (2025.1)\n",
      "Requirement already satisfied: tzdata>=2022.7 in c:\\users\\fabiola\\appdata\\local\\programs\\python\\python313\\lib\\site-packages (from pandas>=1.2->seaborn) (2025.1)\n",
      "Requirement already satisfied: six>=1.5 in c:\\users\\fabiola\\appdata\\roaming\\python\\python313\\site-packages (from python-dateutil>=2.7->matplotlib!=3.6.1,>=3.4->seaborn) (1.17.0)\n",
      "Note: you may need to restart the kernel to use updated packages.\n"
     ]
    },
    {
     "name": "stderr",
     "output_type": "stream",
     "text": [
      "\n",
      "[notice] A new release of pip is available: 24.3.1 -> 25.0\n",
      "[notice] To update, run: python.exe -m pip install --upgrade pip\n"
     ]
    }
   ],
   "source": [
    "pip install seaborn"
   ]
  },
  {
   "cell_type": "code",
   "execution_count": 4,
   "metadata": {},
   "outputs": [
    {
     "name": "stdout",
     "output_type": "stream",
     "text": [
      ":: OPTIMIZED MATCHED PAIRS\n",
      "      Treated_ID  Treated_Pain_Score  Treated_Urgency_Score  \\\n",
      "0      Patient_1                   3                      4   \n",
      "1      Patient_5                   3                      4   \n",
      "2      Patient_6                   1                      4   \n",
      "3      Patient_7                   9                      5   \n",
      "4     Patient_11                   2                      4   \n",
      "..           ...                 ...                    ...   \n",
      "139  Patient_292                   5                      3   \n",
      "140  Patient_294                  10                      9   \n",
      "141  Patient_295                   0                      8   \n",
      "142  Patient_298                   8                      7   \n",
      "143  Patient_300                   0                      7   \n",
      "\n",
      "     Treated_Frequency_Score Treated_Treatment_Time Untreated_ID  \\\n",
      "0                          2    2025-02-10 20:26:56  Patient_197   \n",
      "1                          0    2025-02-10 05:26:39   Patient_44   \n",
      "2                          8    2025-02-10 01:11:44  Patient_271   \n",
      "3                          0    2025-02-10 20:06:09  Patient_155   \n",
      "4                          4    2025-02-10 12:16:25  Patient_208   \n",
      "..                       ...                    ...          ...   \n",
      "139                        0    2025-02-10 03:49:03  Patient_259   \n",
      "140                        8    2025-02-10 16:11:21  Patient_114   \n",
      "141                        5    2025-02-10 16:09:53  Patient_122   \n",
      "142                        4    2025-02-10 00:21:25  Patient_274   \n",
      "143                        5    2025-02-10 23:58:17   Patient_71   \n",
      "\n",
      "     Untreated_Pain_Score  Untreated_Urgency_Score  Untreated_Frequency_Score  \\\n",
      "0                       3                        5                          1   \n",
      "1                       4                        4                          0   \n",
      "2                       1                        4                          8   \n",
      "3                      10                        4                          0   \n",
      "4                       2                        4                          5   \n",
      "..                    ...                      ...                        ...   \n",
      "139                     4                        4                          0   \n",
      "140                     9                        9                          8   \n",
      "141                     1                        8                          3   \n",
      "142                     8                        8                          5   \n",
      "143                     0                        7                          6   \n",
      "\n",
      "    Untreated_Treatment_Time  \n",
      "0                        NaT  \n",
      "1                        NaT  \n",
      "2                        NaT  \n",
      "3                        NaT  \n",
      "4                        NaT  \n",
      "..                       ...  \n",
      "139                      NaT  \n",
      "140                      NaT  \n",
      "141                      NaT  \n",
      "142                      NaT  \n",
      "143                      NaT  \n",
      "\n",
      "[144 rows x 10 columns]\n"
     ]
    },
    {
     "data": {
      "image/png": "[encoded data removed]",
      "text/plain": [
       "<Figure size 1500x500 with 3 Axes>"
      ]
     },
     "metadata": {},
     "output_type": "display_data"
    }
   ],
   "source": [
    "import pandas as pd\n",
    "import numpy as np\n",
    "import matplotlib.pyplot as plt\n",
    "from scipy.optimize import linear_sum_assignment\n",
    "from sklearn.preprocessing import StandardScaler\n",
    "\n",
    "# Load dataset\n",
    "df = pd.read_csv('../Datasets/patient_treatment_data.csv')\n",
    "\n",
    "# Convert Treatment_Time to datetime\n",
    "df['Treatment_Time'] = pd.to_datetime(df['Treatment_Time'])\n",
    "\n",
    "# Separate treated and untreated patients\n",
    "treated = df[df['Treated'] == 'Yes']\n",
    "untreated = df[df['Treated'] == 'No']\n",
    "\n",
    "# Define the symptom columns to match on\n",
    "symptom_columns = ['Pain_Score', 'Urgency_Score', 'Frequency_Score']\n",
    "\n",
    "# Standardize the symptom scores for distance calculation\n",
    "scaler = StandardScaler()\n",
    "df[symptom_columns] = scaler.fit_transform(df[symptom_columns])\n",
    "\n",
    "# Calculate the covariance matrix and its inverse\n",
    "cov_matrix = np.cov(df[symptom_columns], rowvar=False)\n",
    "inv_cov_matrix = np.linalg.inv(cov_matrix)\n",
    "\n",
    "# Function to calculate Mahalanobis distance\n",
    "def mahalanobis_distance(row1, row2, columns, inv_cov_matrix):\n",
    "    diff = row1[columns] - row2[columns]\n",
    "    return np.sqrt(np.dot(np.dot(diff, inv_cov_matrix), diff.T))\n",
    "\n",
    "# Function to perform optimal balanced matching\n",
    "def optimal_balanced_matching(treated, untreated, symptom_columns, inv_cov_matrix):\n",
    "    # Create a cost matrix\n",
    "    cost_matrix = np.zeros((len(treated), len(untreated)))\n",
    "    \n",
    "    # Calculate pairwise distances using Mahalanobis distance\n",
    "    for i in range(len(treated)):\n",
    "        for j in range(len(untreated)):\n",
    "            treated_patient = treated.iloc[i]\n",
    "            untreated_patient = untreated.iloc[j]\n",
    "            cost_matrix[i, j] = mahalanobis_distance(treated_patient, untreated_patient, symptom_columns, inv_cov_matrix)\n",
    "    \n",
    "    # Use the Hungarian algorithm to find the optimal matching\n",
    "    row_ind, col_ind = linear_sum_assignment(cost_matrix)\n",
    "    \n",
    "    # Create the optimized matched pairs\n",
    "    optimized_matches = []\n",
    "    for i, j in zip(row_ind, col_ind):\n",
    "        treated_patient = treated.iloc[i]\n",
    "        untreated_patient = untreated.iloc[j]\n",
    "        optimized_matches.append({\n",
    "            'Treated_ID': treated_patient['ID'],\n",
    "            'Treated_Pain_Score': treated_patient['Pain_Score'],\n",
    "            'Treated_Urgency_Score': treated_patient['Urgency_Score'],\n",
    "            'Treated_Frequency_Score': treated_patient['Frequency_Score'],\n",
    "            'Treated_Treatment_Time': treated_patient['Treatment_Time'],\n",
    "            'Untreated_ID': untreated_patient['ID'],\n",
    "            'Untreated_Pain_Score': untreated_patient['Pain_Score'],\n",
    "            'Untreated_Urgency_Score': untreated_patient['Urgency_Score'],\n",
    "            'Untreated_Frequency_Score': untreated_patient['Frequency_Score'],\n",
    "            'Untreated_Treatment_Time': untreated_patient['Treatment_Time']\n",
    "        })\n",
    "    \n",
    "    return pd.DataFrame(optimized_matches)\n",
    "\n",
    "# Perform optimal balanced matching\n",
    "optimized_matched_pairs = optimal_balanced_matching(treated, untreated, symptom_columns, inv_cov_matrix)\n",
    "\n",
    "# Display the optimized matched pairs\n",
    "print(\":: OPTIMIZED MATCHED PAIRS\")\n",
    "print(optimized_matched_pairs)\n",
    "\n",
    "# Visualization: Compare distributions before and after matching using histograms\n",
    "plt.figure(figsize=(15, 5))\n",
    "\n",
    "# Plot Pain_Score distribution\n",
    "plt.subplot(1, 3, 1)\n",
    "plt.hist([treated['Pain_Score'], untreated['Pain_Score'], optimized_matched_pairs['Treated_Pain_Score'], optimized_matched_pairs['Untreated_Pain_Score']], \n",
    "         bins=20, alpha=0.5, label=['Treated (Before)', 'Untreated (Before)', 'Treated (After)', 'Untreated (After)'], rwidth=1.0)\n",
    "plt.title('Pain Score Distribution')\n",
    "plt.xlabel('Standardized Score')\n",
    "plt.ylabel('Frequency')\n",
    "plt.legend()\n",
    "\n",
    "# Plot Urgency_Score distribution\n",
    "plt.subplot(1, 3, 2)\n",
    "plt.hist([treated['Urgency_Score'], untreated['Urgency_Score'], optimized_matched_pairs['Treated_Urgency_Score'], optimized_matched_pairs['Untreated_Urgency_Score']], \n",
    "         bins=20, alpha=0.5, label=['Treated (Before)', 'Untreated (Before)', 'Treated (After)', 'Untreated (After)'], rwidth=1.0)\n",
    "plt.title('Urgency Score Distribution')\n",
    "plt.xlabel('Standardized Score')\n",
    "plt.ylabel('Frequency')\n",
    "plt.legend()\n",
    "\n",
    "# Plot Frequency_Score distribution\n",
    "plt.subplot(1, 3, 3)\n",
    "plt.hist([treated['Frequency_Score'], untreated['Frequency_Score'], optimized_matched_pairs['Treated_Frequency_Score'], optimized_matched_pairs['Untreated_Frequency_Score']], \n",
    "         bins=20, alpha=0.5, label=['Treated (Before)', 'Untreated (Before)', 'Treated (After)', 'Untreated (After)'], rwidth=1.0)\n",
    "plt.title('Frequency Score Distribution')\n",
    "plt.xlabel('Standardized Score')\n",
    "plt.ylabel('Frequency')\n",
    "plt.legend()\n",
    "\n",
    "plt.tight_layout()\n",
    "plt.show()"
   ]
  }
 ],
 "metadata": {
  "kernelspec": {
   "display_name": "Python 3",
   "language": "python",
   "name": "python3"
  },
  "language_info": {
   "codemirror_mode": {
    "name": "ipython",
    "version": 3
   },
   "file_extension": ".py",
   "mimetype": "text/x-python",
   "name": "python",
   "nbconvert_exporter": "python",
   "pygments_lexer": "ipython3",
   "version": "3.13.2"
  }
 },
 "nbformat": 4,
 "nbformat_minor": 2
}
