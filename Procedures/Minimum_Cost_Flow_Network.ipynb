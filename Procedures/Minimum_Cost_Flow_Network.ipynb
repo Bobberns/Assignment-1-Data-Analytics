{
 "cells": [
  {
   "cell_type": "markdown",
   "metadata": {},
   "source": [
    "### **Minimum Cost Flow Network**\n",
    "\n",
    "This is utilized as a tool to achieve balanced matching in an observational study; wherein its core idea is to frame the matching process as a network flow problem. The following are as defined and idientified:\n",
    "\n",
    ">**Nodes**: Represent individual patients in the Interstitial Cystitis Data Base (ICDB).\n",
    ">\n",
    ">**Edges**: Represent potential matches between a treated patient and a control patient. An edge exists only if the control patient was not yet treated at the time the treated patient received the treatment (this is the \"risk set\" aspect).\n",
    ">\n",
    ">**Cost**: The \"cost\" associated with each edge represents the dissimilarity or distance between the treated and control patients in terms of their pretreatment characteristics (symptoms in this case). The Mahalanobis distance is used as a measure of this dissimilarity.\n",
    ">\n",
    ">**Flow**: The \"flow\" represents whether or not a particular match is selected. A flow of 1 means the match is made; a flow of 0 means it is not.\n",
    "\n",
    "***Steps***\n",
    "\n",
    "1. **Setting up the Network**: The authors construct a network where nodes represent patients, and edges represent permissible matches (treated patient points to an untreated patient).\n",
    "\n",
    "2. **Defining Edge Costs**: The cost of each edge is calculated based on the Mahalanobis distance between the pretreatment symptom profiles of the treated and control patients.\n",
    "\n",
    "3. **Applying Minimum Cost Flow**: The minimum cost flow algorithm is then used to find the set of matches (edges with flow = 1) that minimizes the total dissimilarity (total cost) across all matched pairs. This ensures that the matched pairs are as similar as possible.\n",
    "\n",
    "4. **Balancing**: A penalty function within the integer programming framework is used to encourage balance in the marginal distributions of symptoms between the treated and control groups. This means they're not just trying to find similar pairs, but also ensure that the overall symptom profiles of the treated and control groups are comparable.\n",
    "\n"
   ]
  }
 ],
 "metadata": {
  "kernelspec": {
   "display_name": "Python 3",
   "language": "python",
   "name": "python3"
  },
  "language_info": {
   "codemirror_mode": {
    "name": "ipython",
    "version": 3
   },
   "file_extension": ".py",
   "mimetype": "text/x-python",
   "name": "python",
   "nbconvert_exporter": "python",
   "pygments_lexer": "ipython3",
   "version": "3.13.2"
  }
 },
 "nbformat": 4,
 "nbformat_minor": 2
}
