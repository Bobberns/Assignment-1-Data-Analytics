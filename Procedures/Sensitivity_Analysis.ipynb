{
 "cells": [
  {
   "cell_type": "markdown",
   "metadata": {},
   "source": [
    "### Sensitivity Analysis\n"
   ]
  },
  {
   "cell_type": "code",
   "execution_count": null,
   "metadata": {},
   "outputs": [
    {
     "name": "stdout",
     "output_type": "stream",
     "text": [
      "Sensitivity Analysis Results:\n",
      "           Measure  Wilcoxon P-Value\n",
      "0       Pain Score          0.814024\n",
      "1    Urgency Score          0.857049\n",
      "2  Frequency Score          0.604273\n"
     ]
    }
   ],
   "source": [
    "# Import necessary libraries\n",
    "import pandas as pd\n",
    "import numpy as np\n",
    "from scipy.stats import wilcoxon\n",
    "\n",
    "# Load the dataset (update the file path if running locally)\n",
    "data = pd.read_csv(\"../datasets/patient_treatment_data.csv\")\n",
    "\n",
    "# Convert 'Treated' column to binary (1 for Yes, 0 for No)\n",
    "data['Treated'] = data['Treated'].apply(lambda x: 1 if x == 'Yes' else 0)\n",
    "\n",
    "# Ensure equal sample sizes for fair comparison\n",
    "treated_group = data[data['Treated'] == 1]\n",
    "untreated_group = data[data['Treated'] == 0]\n",
    "min_size = min(len(treated_group), len(untreated_group))\n",
    "\n",
    "# Take equal-sized random samples from treated and untreated groups\n",
    "treated_sample = treated_group.sample(n=min_size, random_state=42)\n",
    "untreated_sample = untreated_group.sample(n=min_size, random_state=42)\n",
    "\n",
    "# Compute differences in scores between treated and untreated groups\n",
    "pain_diff = treated_sample['Pain_Score'].values - untreated_sample['Pain_Score'].values\n",
    "urgency_diff = treated_sample['Urgency_Score'].values - untreated_sample['Urgency_Score'].values\n",
    "frequency_diff = treated_sample['Frequency_Score'].values - untreated_sample['Frequency_Score'].values\n",
    "\n",
    "# Perform Wilcoxon Signed-Rank Test (Non-parametric sensitivity analysis)\n",
    "pain_p_value = wilcoxon(pain_diff).pvalue\n",
    "urgency_p_value = wilcoxon(urgency_diff).pvalue\n",
    "frequency_p_value = wilcoxon(frequency_diff).pvalue\n",
    "\n",
    "# Display results\n",
    "sensitivity_results = pd.DataFrame({\n",
    "    \"Measure\": [\"Pain Score\", \"Urgency Score\", \"Frequency Score\"],\n",
    "    \"Wilcoxon P-Value\": [pain_p_value, urgency_p_value, frequency_p_value]\n",
    "})\n",
    "\n",
    "# Print sensitivity analysis resultsS\n",
    "print(\"Sensitivity Analysis Results:\")\n",
    "print(sensitivity_results)\n"
   ]
  },
  {
   "cell_type": "markdown",
   "metadata": {},
   "source": [
    "Since all p-values ≥ 0.05, this means that there is no statistically significant difference between the treated and untreated groups in terms of Pain Score, Urgency Score, and Frequency Score.\n",
    "\n",
    "✅ Conclusion\n",
    "The matching process appears to have been effective in balancing the treatment and control groups because there are no significant differences between them after matching.\n",
    "\n"
   ]
  }
 ],
 "metadata": {
  "kernelspec": {
   "display_name": "Python 3",
   "language": "python",
   "name": "python3"
  },
  "language_info": {
   "codemirror_mode": {
    "name": "ipython",
    "version": 3
   },
   "file_extension": ".py",
   "mimetype": "text/x-python",
   "name": "python",
   "nbconvert_exporter": "python",
   "pygments_lexer": "ipython3",
   "version": "3.13.2"
  }
 },
 "nbformat": 4,
 "nbformat_minor": 2
}
