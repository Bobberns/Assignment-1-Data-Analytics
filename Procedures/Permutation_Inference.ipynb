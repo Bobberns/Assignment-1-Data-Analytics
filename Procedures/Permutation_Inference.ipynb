{
 "cells": [
  {
   "cell_type": "markdown",
   "metadata": {},
   "source": [
    "### **Permutation Inference**"
   ]
  },
  {
   "cell_type": "code",
   "execution_count": null,
   "metadata": {},
   "outputs": [],
   "source": [
    "import numpy as np\n",
    "import pandas as pd\n",
    "from scipy.stats import permutation_test\n",
    "\n",
    "# Load your dataset (Update path if necessary)\n",
    "data = pd.read_csv(\"../Datasets/patient_treatment_data.csv\")\n",
    "\n",
    "# Convert 'Treated' column to binary (1 for Yes, 0 for No)\n",
    "data['Treated'] = data['Treated'].apply(lambda x: 1 if x == 'Yes' else 0)\n",
    "\n",
    "# Define the features to analyze\n",
    "features = ['Pain_Score', 'Urgency_Score', 'Frequency_Score']\n",
    "\n",
    "# Store results\n",
    "permutation_results = {}\n",
    "\n",
    "# Function to compute mean difference\n",
    "def mean_difference(x, y):\n",
    "    return np.mean(x) - np.mean(y)\n",
    "\n",
    "# Perform permutation test for each feature\n",
    "for feature in features:\n",
    "    treated_values = data[data['Treated'] == 1][feature].dropna()\n",
    "    untreated_values = data[data['Treated'] == 0][feature].dropna()\n",
    "    \n",
    "    # Conduct permutation test\n",
    "    perm_test = permutation_test(\n",
    "        (treated_values, untreated_values),\n",
    "        statistic=mean_difference,\n",
    "        permutation_type='independent',\n",
    "        n_resamples=10_000,  # Number of permutations\n",
    "        alternative='two-sided'\n",
    "    )\n",
    "    \n",
    "    # Store results\n",
    "    permutation_results[feature] = perm_test.pvalue\n",
    "\n",
    "# Convert results to DataFrame\n",
    "permutation_df = pd.DataFrame(permutation_results.items(), columns=[\"Measure\", \"Permutation P-Value\"])\n",
    "\n",
    "# ✅ Display Results\n",
    "print(\"Permutation Inference Results:\")\n",
    "print(permutation_df)\n",
    "\n",
    "# 📊 Visualization of Permutation Test Results\n",
    "import matplotlib.pyplot as plt\n",
    "\n",
    "plt.figure(figsize=(8,5))\n",
    "plt.bar(permutation_df[\"Measure\"], permutation_df[\"Permutation P-Value\"], color=['blue', 'orange', 'green'])\n",
    "plt.axhline(y=0.05, color='red', linestyle='dashed', label=\"Significance Level (0.05)\")\n",
    "plt.xlabel(\"Measure\")\n",
    "plt.ylabel(\"P-Value\")\n",
    "plt.title(\"Permutation Inference Results\")\n",
    "plt.legend()\n",
    "plt.show()\n"
   ]
  }
 ],
 "metadata": {
  "language_info": {
   "name": "python"
  }
 },
 "nbformat": 4,
 "nbformat_minor": 2
}
