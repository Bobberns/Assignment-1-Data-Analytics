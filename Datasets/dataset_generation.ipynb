{
 "cells": [
  {
   "cell_type": "markdown",
   "metadata": {},
   "source": [
    "### **Generate Dataset**\n",
    "\n",
    "##### **Patient Treatment Dataset Generation**\n",
    "A patient record is generated to simulate data maninulation for the application of procedures. 300 patients are genarated with the follwing attributes: \n",
    "- ID\n",
    "- Treated (yes/no)\n",
    "- Pain Score\n",
    "- Urgency Score\n",
    "- Frequency Score\n",
    "- Treatment Time"
   ]
  },
  {
   "cell_type": "code",
   "execution_count": 3,
   "metadata": {},
   "outputs": [
    {
     "name": "stdout",
     "output_type": "stream",
     "text": [
      "          ID Treated  Pain_Score  Urgency_Score  Frequency_Score  \\\n",
      "0  Patient_1     Yes           3              4                2   \n",
      "1  Patient_2      No           2              6                5   \n",
      "2  Patient_3      No           6              5                0   \n",
      "3  Patient_4      No           7              0                6   \n",
      "4  Patient_5     Yes           3              4                0   \n",
      "\n",
      "       Treatment_Time  \n",
      "0 2025-02-10 20:26:56  \n",
      "1                 NaT  \n",
      "2                 NaT  \n",
      "3                 NaT  \n",
      "4 2025-02-10 05:26:39  \n"
     ]
    }
   ],
   "source": [
    "import pandas as pd\n",
    "import numpy as np\n",
    "from datetime import datetime, timedelta\n",
    "\n",
    "# Set a random seed for reproducibility\n",
    "np.random.seed(42)\n",
    "\n",
    "# Number of patients\n",
    "num_patients = 300\n",
    "\n",
    "# Generate patient IDs\n",
    "patient_ids = [f'Patient_{i+1}' for i in range(num_patients)]\n",
    "\n",
    "# Randomly assign treatment status (Yes or No)\n",
    "treated = np.random.choice(['Yes', 'No'], size=num_patients, p=[0.5, 0.5])\n",
    "\n",
    "# Generate random symptom scores (Pain_Score, Urgency_Score, Frequency_Score)\n",
    "pain_scores = np.random.randint(0, 11, size=num_patients)\n",
    "urgency_scores = np.random.randint(0, 11, size=num_patients)\n",
    "frequency_scores = np.random.randint(0, 11, size=num_patients)\n",
    "\n",
    "# Generate random treatment times for treated patients\n",
    "base_time = datetime(2025, 2, 10, 0, 0, 0)\n",
    "treatment_times = [\n",
    "    (base_time + timedelta(hours=np.random.randint(0, 24), minutes=np.random.randint(0, 60), seconds=np.random.randint(0, 60)))\n",
    "    if treated[i] == 'Yes' else np.nan\n",
    "    for i in range(num_patients)\n",
    "]\n",
    "\n",
    "# Create the DataFrame\n",
    "df = pd.DataFrame({\n",
    "    'ID': patient_ids,\n",
    "    'Treated': treated,\n",
    "    'Pain_Score': pain_scores,\n",
    "    'Urgency_Score': urgency_scores,\n",
    "    'Frequency_Score': frequency_scores,\n",
    "    'Treatment_Time': treatment_times\n",
    "})\n",
    "\n",
    "# Save the dataset to a CSV file\n",
    "df.to_csv('patient_treatment_data.csv', index=False)\n",
    "\n",
    "# Display the first few rows of the dataset\n",
    "print(df.head())"
   ]
  }
 ],
 "metadata": {
  "kernelspec": {
   "display_name": "Python 3",
   "language": "python",
   "name": "python3"
  },
  "language_info": {
   "codemirror_mode": {
    "name": "ipython",
    "version": 3
   },
   "file_extension": ".py",
   "mimetype": "text/x-python",
   "name": "python",
   "nbconvert_exporter": "python",
   "pygments_lexer": "ipython3",
   "version": "3.13.2"
  }
 },
 "nbformat": 4,
 "nbformat_minor": 2
}
