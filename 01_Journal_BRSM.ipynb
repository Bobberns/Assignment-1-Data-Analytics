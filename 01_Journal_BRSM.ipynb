{
 "cells": [
  {
   "cell_type": "markdown",
   "metadata": {},
   "source": [
    "# \"Balanced Risk Set Matching\" \n",
    "by Yunfei Paul Li, Kathleen J. Propert, and Paul R. Rosenbaum\n",
    "### <span style=\"background:rgba(140, 140, 140, 0.12)\">What is it even?</span>\n",
    "\n",
    "This is a new form of matching  that is applied in an observational study of a treatment, cystoscopy and hydrodistension - <font color=\"#92d050\">**to create balanced comparison groups when random assignment is not possible**</font>.\n",
    "### <span style=\"background:rgba(140, 140, 140, 0.12)\">Key Concept</span>\n",
    "\n",
    "The key idea for BRSM is that when <font color=\"#92d050\">**patient A is given treatment at a certain time *t*, patient A is matched to patient B with similar history of symptoms up to time *t***</font> - wherein patient B has not received the treatment up until time *t*.\n",
    "### <span style=\"background:rgba(140, 140, 140, 0.12)\">What does the journal even say?</span>\n",
    "A treatment is studied for a chronic disease called <font color=\"#de7802\">**interstitial cystitis**</font>. The <font color=\"#de7802\">treatment is called **cystoscopy and hydrodistention**</font>, and it’s <u>given to patients based on their symptoms</u>. To understand if the treatment works, we compare patients who received it to similar patients who didn’t.\n",
    "##### Methods or \"How is it done?\"\n",
    "1. <font color=\"#92d050\">**Matching Patients**</font>\n",
    "\t- When a patient gets treatment at a specific time, we find another patient who had similar symptoms up to that point but didn't get the treatment; **finding treated and untreated patients with similar symptoms** - <font color=\"#de7802\">**risk set matching**</font>.\n",
    "2. <font color=\"#92d050\">**Balancing Symptoms**</font>\n",
    "\t- How do we exactly know that the untreated and treated patients have **similar symptom patterns?** - <font color=\"#de7802\">**integer programming**</font>.\n",
    "3. <font color=\"#92d050\">**Choosing the Best Matches**</font>\n",
    "\t- Treated and untreated patients with similar symptom patterns are then narrowed down further by <font color=\"#de7802\">**selecting a group based off of similarity in attributes**</font>.\n",
    "4. <font color=\"#92d050\">**Checking for Hidden Biases**</font>\n",
    "\t- Results are then tested in the matter of sensitivity from hidden factors that could affect on who gets the treatment. <font color=\"#de7802\">**A standard way to check for these biases must be shown w/o biases**</font> that shall suit best for this study.\n",
    "\n",
    "> [QUESTION]\n",
    "> Integer programming? Matched sampling? Network flow? Observational study? Sensitivity analysis?\n",
    "\n",
    "Patients with similar symptom patterns (using <font color=\"#92d050\">**risk set matching**</font>) are grouped into \"treated\" (those who received the treatment) and \"untreated\" (those who didn’t) - take note of the time these patients are diagnosed. To make the groups as similar as possible, patients are further matched based on their characteristics (like age, health history, etc.) using a math technique called <font color=\"#92d050\">**integer programming**</font>. The results are tested to ensure they’re not skewed by hidden biases, making the findings more trustworthy."
   ]
  }
 ],
 "metadata": {
  "language_info": {
   "name": "python"
  }
 },
 "nbformat": 4,
 "nbformat_minor": 2
}
