{
 "cells": [
  {
   "cell_type": "markdown",
   "metadata": {},
   "source": [
    "# \"<u>Balanced Risk Set Matching</u>\" \n",
    "by Yunfei Paul Li, Kathleen J. Propert, and Paul R. Rosenbaum\n",
    "### <span style=\"background:rgba(140, 140, 140, 0.12)\">What is it even?</span>\n",
    "\n",
    "This is a new form of matching  that is applied in an observational study of a treatment, cystoscopy and hydrodistension - <font color=\"#92d050\">**to create balanced comparison groups when random assignment is not possible**</font>.\n",
    "### <span style=\"background:rgba(140, 140, 140, 0.12)\">Key Concept</span>\n",
    "\n",
    "The key idea for BRSM is that when <font color=\"#92d050\">**patient A is given treatment at a certain time *t*, patient A is matched to patient B with similar history of symptoms up to time *t***</font> - wherein patient B has not received the treatment up until time *t*.\n",
    "### <span style=\"background:rgba(140, 140, 140, 0.12)\">What does the journal even say?</span>\n",
    "A treatment is studied for a chronic disease called <font color=\"#de7802\">**interstitial cystitis**</font>. The <font color=\"#de7802\">treatment is called **cystoscopy and hydrodistention**</font>, and it’s <u>given to patients based on their symptoms</u>. To understand if the treatment works, we compare patients who received it to similar patients who didn’t.\n",
    "##### Methods or \"How is it done?\"\n",
    "1. <font color=\"#92d050\">**Matching Patients**</font>\n",
    "\t- When a patient gets treatment at a specific time, we find another patient who had similar symptoms up to that point but didn't get the treatment; **finding treated and untreated patients with similar symptoms** - <font color=\"#de7802\">**risk set matching**</font>.\n",
    "2. <font color=\"#92d050\">**Balancing Symptoms**</font>\n",
    "\t- How do we exactly know that the untreated and treated patients have **similar symptom patterns?** - <font color=\"#de7802\">**integer programming**</font>.\n",
    "3. <font color=\"#92d050\">**Choosing the Best Matches**</font>\n",
    "\t- Treated and untreated patients with similar symptom patterns are then narrowed down further by <font color=\"#de7802\">**selecting a group based off of similarity in attributes**</font>.\n",
    "4. <font color=\"#92d050\">**Checking for Hidden Biases**</font>\n",
    "\t- Results are then tested in the matter of sensitivity from hidden factors that could affect on who gets the treatment. <font color=\"#de7802\">**A standard way to check for these biases must be shown w/o biases**</font> that shall suit best for this study.\n",
    "\n",
    "> [!QUESTION] **Key Words for Query**\n",
    ">\n",
    "> Integer programming? Matched sampling? Network flow? Observational study? Sensitivity analysis?\n",
    "\n",
    "Patients with similar symptom patterns (using <font color=\"#92d050\">**risk set matching**</font>) are grouped into \"treated\" (those who received the treatment) and \"untreated\" (those who didn’t) - take note of the time these patients are diagnosed. To make the groups as similar as possible, patients are further matched based on their characteristics (like age, health history, etc.) using a math technique called <font color=\"#92d050\">**integer programming**</font>. The results are tested to ensure they’re not skewed by hidden biases, making the findings more trustworthy.\n",
    "\n",
    "---\n",
    "# \"Matching to Achieve Comparable Histories\"\n",
    "### Observational Study of <u>Interstitial Cystitis</u>\n",
    "\n",
    "This study **looks at how a surgical procedure called cystoscopy and hydrodistension affects the symptoms of Interstitial Cystitis** (IC), a chronic condition causing bladder pain and frequent, urgent urination. Unlike a urinary tract infection, <font color=\"#92d050\">**IC has no evidence of infection, and its causes and progression are not well understood**</font>.\n",
    "\n",
    "In an ideal scenario, the effectiveness of a treatment would be tested in a randomized controlled trial, where <font color=\"#92d050\">**patients are randomly assigned to either receive the treatment or not**</font>. This ensures that the groups being compared are similar before treatment. However, in real-world settings, especially with chronic diseases like IC, <span style=\"background:rgba(140, 140, 140, 0.12)\">randomized trials aren't always possible due to ethical or practical reasons</span>. Instead, <font color=\"#92d050\">**treatments are often given based on the severity of symptoms**</font>, which can <font color=\"#de7802\">**make it harder to compare treated and untreated patients fairly**</font>.\n",
    "\n",
    "This study uses data from the Interstitial Cystitis Data Base (ICDB), which tracked patients with IC symptoms (like urinary urgency, frequency, and pelvic pain) for up to 4 years. Patients were evaluated every 3 months, and three key symptoms were measured: <font color=\"#92d050\">**pain, urgency, and nighttime urination frequency**</font>. Pain and urgency were rated on a scale from 0 to 9, with higher numbers indicating worse symptoms.\n",
    "\n",
    "Patients in the database were treated according to standard clinical practices, and some underwent cystoscopy and hydrodistension, likely due to severe or worsening symptoms. <span style=\"background:rgba(140, 140, 140, 0.12)\">The study aims to understand how this surgical intervention impacts IC symptoms over time, even though the treatment wasn't randomly assigned.</span>\n",
    "\n",
    "> [!QUESTION] **What are the procedures involved in the journal?**\n",
    "> \n",
    "><font color=\"#de7802\">**Balanced Risk Set Matching**</font> is **performed using a new algorithm to achieve similar patients** in each pair and balanced groups in aggregate.\n",
    ">\n",
    "><font color=\"#de7802\">**Optimal balanced matching**</font> is conducted **to minimize the total distance within matched pairs**. This involves finding a balanced pair matching M that minimizes the total distance across all balanced pair matchings. This can be achieved through integer programming methods.\n",
    "> \n",
    "><font color=\"#de7802\">**Minimum cost flow in a network**</font> is used for **optimal pair matching**.\n",
    ">\n",
    "><font color=\"#de7802\">**Sensitivity analysis**</font> is conducted **to assess how hidden biases might alter the conclusions** of the observational study. This involves a parameter that describes the magnitude of departure from a randomised experiment.\n",
    ">\n",
    "><font color=\"#de7802\">**Permutation inference**</font> is used, which **involves risk set matching to justify simple, conventional permutation inferences** under a general model for the decision to apply the treatment at a particular moment in response to time-varying symptoms.\n",
    ">\n",
    "><font color=\"#de7802\">**Integer programming**</font> is used, where **the optimal balanced matching problem is expressed as minimizing a linear function of integer variables**, subject to linear equality and inequality constraints. The balance conditions are treated as a penalty in the objective function.\n",
    "\n",
    "# Procedures:"
   ]
  },
  {
   "cell_type": "markdown",
   "metadata": {},
   "source": [
    "### <u><span style=\"background:rgba(140, 140, 140, 0.12)\">Balanced Risk Set Matching</span></u>"
   ]
  },
  {
   "cell_type": "markdown",
   "metadata": {},
   "source": [
    "### <u><span style=\"background:rgba(140, 140, 140, 0.12)\">Optimal Balanced Matching</span></u>"
   ]
  },
  {
   "cell_type": "markdown",
   "metadata": {},
   "source": [
    "### <u><span style=\"background:rgba(140, 140, 140, 0.12)\">Minimum Cost Flow in a Network</span></u>"
   ]
  },
  {
   "cell_type": "markdown",
   "metadata": {},
   "source": [
    "### <u><span style=\"background:rgba(140, 140, 140, 0.12)\">Sensitivity Analysis</span></u>"
   ]
  },
  {
   "cell_type": "markdown",
   "metadata": {},
   "source": [
    "### <u><span style=\"background:rgba(140, 140, 140, 0.12)\">Permutation Inference</span></u>"
   ]
  },
  {
   "cell_type": "markdown",
   "metadata": {},
   "source": [
    "### <u><span style=\"background:rgba(140, 140, 140, 0.12)\">Integer Programming</span></u>"
   ]
  }
 ],
 "metadata": {
  "language_info": {
   "name": "python"
  }
 },
 "nbformat": 4,
 "nbformat_minor": 2
}
